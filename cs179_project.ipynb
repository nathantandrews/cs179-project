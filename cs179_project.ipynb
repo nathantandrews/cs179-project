{
 "cells": [
  {
   "cell_type": "code",
   "execution_count": 6,
   "metadata": {},
   "outputs": [],
   "source": [
    "import numpy as np\n",
    "import pyGMs as gm\n",
    "import matplotlib.pyplot as plt\n",
    "\n",
    "import requests                                      # reading data\n",
    "from io import StringIO\n",
    "import time"
   ]
  },
  {
   "cell_type": "code",
   "execution_count": 7,
   "metadata": {},
   "outputs": [],
   "source": [
    "# Load the features and labels from an online text file\n",
    "tr_url = 'https://sli.ics.uci.edu/extras/cs179/data/cs179-hw5-train.csv'\n",
    "te_url = 'https://sli.ics.uci.edu/extras/cs179/data/cs179-hw5-test.csv'\n",
    "\n",
    "with requests.get(tr_url) as link: titles = StringIO(link.text).readline()[2:].strip().split(',')\n",
    "with requests.get(tr_url) as link: Xtr = np.loadtxt(StringIO(link.text),delimiter=',')\n",
    "with requests.get(te_url) as link: Xte = np.loadtxt(StringIO(link.text),delimiter=',')\n",
    "    \n",
    "# It's helpful to have a list of \"short\" names for display purposes:\n",
    "short = {0:'ToyStory',1:'Aladdin ',2:'Cars    ',3:'Potter2 ',4:'Potter3 ',5:'DieHard ',\n",
    "         6:'Aliens  ',7:\"Gremlins\",8:\"LWomen  \",9:\"BoysSide\"}"
   ]
  },
  {
   "cell_type": "code",
   "execution_count": 8,
   "metadata": {},
   "outputs": [],
   "source": [
    "Xtr = (Xtr >= 7).astype(int);   # did each user like the movie?  (binary)\n",
    "Xte = (Xte >= 7).astype(int);\n",
    "\n",
    "# (use any threshold you like, but \"7+\" might be \"worth recommending\"?)\n",
    "mUsers, nMovies = Xtr.shape"
   ]
  },
  {
   "cell_type": "code",
   "execution_count": 9,
   "metadata": {},
   "outputs": [],
   "source": [
    "pXi = np.mean(1.*Xtr,axis=0);  # empirical probability of liking each movie individually\n",
    "\n",
    "# We don't really need a graphical model for this, but we might as well:\n",
    "model0 = gm.GraphModel( [gm.Factor([gm.Var(i,2)],[1-pXi[i],pXi[i]]) for i in range(nMovies)])"
   ]
  },
  {
   "cell_type": "code",
   "execution_count": 10,
   "metadata": {},
   "outputs": [
    {
     "name": "stdout",
     "output_type": "stream",
     "text": [
      "Independent model Train LL:  -6.38742095180935\n",
      "Independent model Test  LL:  -5.718156517917562\n"
     ]
    }
   ],
   "source": [
    "# How well does our model fit the data?\n",
    "print(\"Independent model Train LL: \",np.mean([model0.logValue(x) for x in Xtr]))\n",
    "print(\"Independent model Test  LL: \",np.mean([model0.logValue(x) for x in Xte]))"
   ]
  },
  {
   "cell_type": "markdown",
   "metadata": {},
   "source": [
    "### Learn an Ising model\n",
    "There are lots of methods to learn Ising models, or the \"support structure\" (which edges have non-zero parameter values) for an Ising model. One trivial way is based on the observation that each variable's conditional distribution is given by a logistic regression model, with coefficients equal to twice the Ising model parameters. So we can estimate the parameters, or their support, using logistic regression, and encourage a sparse model (few dependencies) by adding a sparse penalty to the regression, for example  𝐿1  regularization:"
   ]
  },
  {
   "cell_type": "code",
   "execution_count": 11,
   "metadata": {},
   "outputs": [
    {
     "name": "stderr",
     "output_type": "stream",
     "text": [
      "/var/folders/dd/mj_wq35n4yxbxcg8pvwwyrx00000gn/T/ipykernel_63209/1393317709.py:14: DeprecationWarning: Conversion of an array with ndim > 0 to a scalar is deprecated, and will error in future. Ensure you extract a single element from your array before performing this operation. (Deprecated NumPy 1.25.)\n",
      "  th_i[i] = lr.intercept_/2.\n",
      "/var/folders/dd/mj_wq35n4yxbxcg8pvwwyrx00000gn/T/ipykernel_63209/1393317709.py:14: DeprecationWarning: Conversion of an array with ndim > 0 to a scalar is deprecated, and will error in future. Ensure you extract a single element from your array before performing this operation. (Deprecated NumPy 1.25.)\n",
      "  th_i[i] = lr.intercept_/2.\n",
      "/var/folders/dd/mj_wq35n4yxbxcg8pvwwyrx00000gn/T/ipykernel_63209/1393317709.py:14: DeprecationWarning: Conversion of an array with ndim > 0 to a scalar is deprecated, and will error in future. Ensure you extract a single element from your array before performing this operation. (Deprecated NumPy 1.25.)\n",
      "  th_i[i] = lr.intercept_/2.\n",
      "/var/folders/dd/mj_wq35n4yxbxcg8pvwwyrx00000gn/T/ipykernel_63209/1393317709.py:14: DeprecationWarning: Conversion of an array with ndim > 0 to a scalar is deprecated, and will error in future. Ensure you extract a single element from your array before performing this operation. (Deprecated NumPy 1.25.)\n",
      "  th_i[i] = lr.intercept_/2.\n",
      "/var/folders/dd/mj_wq35n4yxbxcg8pvwwyrx00000gn/T/ipykernel_63209/1393317709.py:14: DeprecationWarning: Conversion of an array with ndim > 0 to a scalar is deprecated, and will error in future. Ensure you extract a single element from your array before performing this operation. (Deprecated NumPy 1.25.)\n",
      "  th_i[i] = lr.intercept_/2.\n",
      "/var/folders/dd/mj_wq35n4yxbxcg8pvwwyrx00000gn/T/ipykernel_63209/1393317709.py:14: DeprecationWarning: Conversion of an array with ndim > 0 to a scalar is deprecated, and will error in future. Ensure you extract a single element from your array before performing this operation. (Deprecated NumPy 1.25.)\n",
      "  th_i[i] = lr.intercept_/2.\n",
      "/var/folders/dd/mj_wq35n4yxbxcg8pvwwyrx00000gn/T/ipykernel_63209/1393317709.py:14: DeprecationWarning: Conversion of an array with ndim > 0 to a scalar is deprecated, and will error in future. Ensure you extract a single element from your array before performing this operation. (Deprecated NumPy 1.25.)\n",
      "  th_i[i] = lr.intercept_/2.\n",
      "/var/folders/dd/mj_wq35n4yxbxcg8pvwwyrx00000gn/T/ipykernel_63209/1393317709.py:14: DeprecationWarning: Conversion of an array with ndim > 0 to a scalar is deprecated, and will error in future. Ensure you extract a single element from your array before performing this operation. (Deprecated NumPy 1.25.)\n",
      "  th_i[i] = lr.intercept_/2.\n",
      "/var/folders/dd/mj_wq35n4yxbxcg8pvwwyrx00000gn/T/ipykernel_63209/1393317709.py:14: DeprecationWarning: Conversion of an array with ndim > 0 to a scalar is deprecated, and will error in future. Ensure you extract a single element from your array before performing this operation. (Deprecated NumPy 1.25.)\n",
      "  th_i[i] = lr.intercept_/2.\n",
      "/var/folders/dd/mj_wq35n4yxbxcg8pvwwyrx00000gn/T/ipykernel_63209/1393317709.py:14: DeprecationWarning: Conversion of an array with ndim > 0 to a scalar is deprecated, and will error in future. Ensure you extract a single element from your array before performing this operation. (Deprecated NumPy 1.25.)\n",
      "  th_i[i] = lr.intercept_/2.\n"
     ]
    }
   ],
   "source": [
    "# Find adjacency graph using penalized logistic regression\n",
    "\n",
    "from sklearn.linear_model import LogisticRegression\n",
    "\n",
    "# for each Xi, estimate the neighborhood of Xi using L1-reg logistic regression:\n",
    "C = 50./100  # inverse regularization penalty: smaller => sparser weights\n",
    "nbrs,th_ij,th_i = [None]*nMovies, [None]*nMovies, np.zeros((nMovies,))\n",
    "Xtmp = np.copy(Xtr)  # we'll be messing with the matrix\n",
    "for i in range(nMovies):  \n",
    "    Xtmp[:,i] = 0.      # remove ourselves\n",
    "    lr = LogisticRegression(penalty='l1',C=C,solver='liblinear').fit(Xtmp,Xtr[:,i])\n",
    "    nbrs[i] = np.where(np.abs(lr.coef_) > 1e-6)[1]\n",
    "    th_ij[i]= lr.coef_[0,nbrs[i]]/2.\n",
    "    th_i[i] = lr.intercept_/2.\n",
    "    Xtmp[:,i] = Xtr[:,i]; # & restore after"
   ]
  },
  {
   "cell_type": "markdown",
   "metadata": {},
   "source": [
    "Depending on how much regularization we apply, this will give more or fewer neighbors for each variable:"
   ]
  },
  {
   "cell_type": "code",
   "execution_count": 12,
   "metadata": {},
   "outputs": [
    {
     "name": "stdout",
     "output_type": "stream",
     "text": [
      "Average connectivity at C= 0.5 : \n",
      "3.6  +/-  0.8\n"
     ]
    }
   ],
   "source": [
    "print(\"Average connectivity at C=\",C,\": \")\n",
    "print(np.mean([len(nn) for nn in nbrs]),\" +/- \",np.std([len(nn) for nn in nbrs]))"
   ]
  },
  {
   "cell_type": "markdown",
   "metadata": {},
   "source": []
  },
  {
   "cell_type": "code",
   "execution_count": 13,
   "metadata": {},
   "outputs": [],
   "source": [
    "# Collect single-variable factors\n",
    "factors1 = [gm.Factor(gm.Var(i,2),[-t,t]).exp() for i,t in enumerate(th_i)]\n",
    "\n",
    "# Collect non-zero pairwise factors\n",
    "for i in range(nMovies):\n",
    "    for j,n in enumerate(nbrs[i]):\n",
    "        scope = [gm.Var(i,2),gm.Var(int(n),2)]\n",
    "        t = th_ij[i][j]\n",
    "        factors1.append( gm.Factor(scope, [[t,-t],[-t,t]]).exp() )\n",
    "\n",
    "# Build a model from the factors\n",
    "model1 = gm.GraphModel(factors1)\n",
    "model1.makeMinimal()\n"
   ]
  },
  {
   "cell_type": "code",
   "execution_count": 14,
   "metadata": {},
   "outputs": [
    {
     "data": {
      "image/png": "[encoded data removed]",
      "text/plain": [
       "<Figure size 432x288 with 1 Axes>"
      ]
     },
     "metadata": {},
     "output_type": "display_data"
    }
   ],
   "source": [
    "gm.drawMarkovGraph(model1,labels=short);\n"
   ]
  },
  {
   "cell_type": "code",
   "execution_count": 15,
   "metadata": {},
   "outputs": [
    {
     "name": "stdout",
     "output_type": "stream",
     "text": [
      "Induced width of order found:  4\n",
      "Log partition f'n:  10.125551793567332\n"
     ]
    }
   ],
   "source": [
    "# How well does our model fit the data?  Now we need to know the partition function!\n",
    "# Maybe we can do it using variable elimination?  Depends on the treewidth.\n",
    "order,val = gm.eliminationOrder(model1, 'minfill')\n",
    "# (actually \"val\" here is an estimate of the required memory, so that's even better, but...)\n",
    "\n",
    "pt = gm.PseudoTree(model1,order)                   # find the tree width:\n",
    "print(\"Induced width of order found: \",pt.width)# 16 is not too bad (2^16 = 65k), so we can do it:\n",
    "import pyGMs.wmb\n",
    "jt = gm.wmb.JTree(model1, elimOrder=order)\n",
    "lnZ = jt.msgForward()\n",
    "print(\"Log partition f'n: \",lnZ)"
   ]
  },
  {
   "cell_type": "code",
   "execution_count": 16,
   "metadata": {},
   "outputs": [
    {
     "name": "stdout",
     "output_type": "stream",
     "text": [
      "Log partition f'n:  10.125551793567332\n"
     ]
    }
   ],
   "source": [
    "# 16 is not too bad (2^16 = 65k), so we can do it:\n",
    "import pyGMs.wmb\n",
    "jt = gm.wmb.JTree(model1, elimOrder=order)\n",
    "lnZ = jt.msgForward()\n",
    "print(\"Log partition f'n: \",lnZ)"
   ]
  },
  {
   "cell_type": "code",
   "execution_count": 17,
   "metadata": {},
   "outputs": [
    {
     "name": "stdout",
     "output_type": "stream",
     "text": [
      "LogReg Ising Train LL:  -7.334083336515478\n",
      "LogReg Ising Test  LL:  -4.890299892881683\n"
     ]
    }
   ],
   "source": [
    "# Now we can calculate the actual log-likelihood of the data:\n",
    "print(\"LogReg Ising Train LL: \",np.mean([model1.logValue(x) for x in Xtr]) - lnZ)\n",
    "print(\"LogReg Ising Test  LL: \",np.mean([model1.logValue(x) for x in Xte]) - lnZ)"
   ]
  },
  {
   "cell_type": "markdown",
   "metadata": {},
   "source": [
    "# Evaluating model quality\n",
    "We can evaluate our models either through the test data likelihood, or through predictive accuracy.\n",
    "If the induced width of a model is too high, we may be unable to exactly evaluate its log likelihood. One option then is to evaluate its pseudo-likelihood, and compare this between models:"
   ]
  },
  {
   "cell_type": "code",
   "execution_count": 18,
   "metadata": {},
   "outputs": [],
   "source": [
    "def conditional(factor,i,x):\n",
    "    return factor.t[tuple(x[v] if v!=i else slice(v.states) for v in factor.vars)]\n",
    "\n",
    "def pseudolikelihood(model,X):\n",
    "    LL = np.zeros( X.shape )\n",
    "    for i in range(X.shape[1]):  # for each variable:\n",
    "        flist = model.factorsWith(i, copy=False)\n",
    "        for j in range(X.shape[0]):\n",
    "            pXi = 1.\n",
    "            for f in flist: pXi *= conditional(f,i,X[j])\n",
    "            LL[j,i] = np.log( pXi[X[j,i]]/pXi.sum() ); \n",
    "    return LL.sum(1);"
   ]
  },
  {
   "cell_type": "code",
   "execution_count": 19,
   "metadata": {},
   "outputs": [
    {
     "data": {
      "text/plain": [
       "-5.718156517917562"
      ]
     },
     "execution_count": 19,
     "metadata": {},
     "output_type": "execute_result"
    }
   ],
   "source": [
    "pseudolikelihood(model0, Xte).mean()\n"
   ]
  },
  {
   "cell_type": "code",
   "execution_count": 20,
   "metadata": {},
   "outputs": [
    {
     "data": {
      "text/plain": [
       "-5.340737217642248"
      ]
     },
     "execution_count": 20,
     "metadata": {},
     "output_type": "execute_result"
    }
   ],
   "source": [
    "pseudolikelihood(model1, Xte).mean()\n"
   ]
  },
  {
   "cell_type": "markdown",
   "metadata": {},
   "source": [
    "# Making predictions given the Ising model parameters:\n",
    "Once we have an ising model, we can use our \"missing value\" test dataset to predict whether the user will like the withheld movies given the observed movie likes. We can condition the model on the known observation values, leaving a model only over the unknown movies, and then perform an argmax query to predict their values. If the induced width is small enough, we can just do this with exact inference:"
   ]
  },
  {
   "cell_type": "code",
   "execution_count": 21,
   "metadata": {},
   "outputs": [],
   "source": [
    "def impute_missing(model, Xobs):\n",
    "    m,n = Xobs.shape\n",
    "    Xhat = np.copy(Xobs);\n",
    "    for j in range(m):\n",
    "        x_obs = {i:Xobs[j,i] for i in range(n) if Xobs[j,i] >= 0}\n",
    "        x_unobs = [i for i in range(n) if Xobs[j,i] < 0]\n",
    "        cond = gm.GraphModel([f.condition(x_obs) for f in model.factorsWithAny(x_unobs)])\n",
    "        for x in cond.X:\n",
    "            if x.states == 0: x.states = 1;  # fix a bug in GraphModel behavior for missing vars...\n",
    "        jt = gm.wmb.JTree(cond, weights=1e-6) # 0: for maximization\n",
    "        x_hat = jt.argmax();\n",
    "        for i in x_unobs: Xhat[j,i] = x_hat[i]\n",
    "    return Xhat"
   ]
  },
  {
   "cell_type": "code",
   "execution_count": 22,
   "metadata": {},
   "outputs": [],
   "source": [
    "# # Slow!  (Constructing lots of conditional models...)\n",
    "Xte_hat = impute_missing(model1, Xte_missing)\n",
    "print('Error rate:', np.mean( (Xte_hat!=Xte_missing)[Xte_hat<0] ) )"
   ]
  }
 ],
 "metadata": {
  "kernelspec": {
   "display_name": "Python 3",
   "language": "python",
   "name": "python3"
  },
  "language_info": {
   "codemirror_mode": {
    "name": "ipython",
    "version": 3
   },
   "file_extension": ".py",
   "mimetype": "text/x-python",
   "name": "python",
   "nbconvert_exporter": "python",
   "pygments_lexer": "ipython3",
   "version": "3.9.6"
  }
 },
 "nbformat": 4,
 "nbformat_minor": 2
}
