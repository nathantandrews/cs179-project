{
 "cells": [
  {
   "cell_type": "code",
   "execution_count": 61,
   "metadata": {},
   "outputs": [],
   "source": [
    "import pandas as pd\n",
    "import numpy as np\n",
    "from sklearn.model_selection import train_test_split\n",
    "from sklearn.linear_model import LogisticRegression\n",
    "import matplotlib.pyplot as plt\n",
    "import pyGMs as gm\n",
    "import pyGMs.ising\n",
    "import pyGMs.wmb\n",
    "\n",
    "%matplotlib inline\n"
   ]
  },
  {
   "cell_type": "markdown",
   "metadata": {},
   "source": [
    "# Download Dataset"
   ]
  },
  {
   "cell_type": "code",
   "execution_count": null,
   "metadata": {},
   "outputs": [],
   "source": [
    "import zipfile\n",
    "import urllib.request\n",
    "import os\n",
    "import pandas as pd\n",
    "\n",
    "# -------- Step 1: Download and unzip the dataset --------\n",
    "dataset_url = 'http://files.grouplens.org/datasets/movielens/ml-100k.zip'\n",
    "zip_path = 'ml-100k.zip'\n",
    "extract_folder = 'ml-100k'\n",
    "\n",
    "if not os.path.exists(extract_folder):\n",
    "    print(\"Downloading dataset...\")\n",
    "    urllib.request.urlretrieve(dataset_url, zip_path)\n",
    "\n",
    "    print(\"Extracting dataset...\")\n",
    "    with zipfile.ZipFile(zip_path, 'r') as zip_ref:\n",
    "        zip_ref.extractall()\n",
    "    print(\"Dataset downloaded and extracted.\")\n",
    "else:\n",
    "    print(\"Dataset already exists.\")\n",
    "\n",
    "# -------- Step 2: Read movie metadata from u.item --------\n",
    "movie_cols = [\n",
    "    'movie_id', 'title', 'release_date', 'video_release_date', 'imdb_url'\n",
    "] + [f'genre_{i}' for i in range(19)]\n",
    "\n",
    "movies_path = os.path.join(extract_folder, 'u.item')\n",
    "\n",
    "movies = pd.read_csv(\n",
    "    movies_path,\n",
    "    sep='|',\n",
    "    encoding='latin-1',\n",
    "    header=None,\n",
    "    names=movie_cols,\n",
    "    usecols=[0, 1, 2]\n",
    ")\n",
    "\n",
    "# -------- Step 3: Display some info --------\n",
    "print(\"\\n📽️ First 5 Movies:\")\n",
    "print(movies.head())\n",
    "\n",
    "print(f\"\\nTotal number of movies: {len(movies)}\")\n"
   ]
  },
  {
   "cell_type": "code",
   "execution_count": 62,
   "metadata": {},
   "outputs": [],
   "source": [
    "# Load raw MovieLens 100k ratings\n",
    "ratings = pd.read_csv('ml-100k/u.data', sep='\\t', names=['user_id', 'movie_id', 'rating', 'timestamp'])\n",
    "\n",
    "# Limit to most active users and most rated movies (e.g., 500 users, 10 movies)\n",
    "user_counts = ratings['user_id'].value_counts()\n",
    "movie_counts = ratings['movie_id'].value_counts()\n",
    "\n",
    "top_users = user_counts.head(500).index\n",
    "top_movies = movie_counts.head(10).index\n",
    "\n",
    "filtered = ratings[(ratings['user_id'].isin(top_users)) & (ratings['movie_id'].isin(top_movies))]\n",
    "\n",
    "# Pivot to user-movie matrix\n",
    "pivot = filtered.pivot(index='user_id', columns='movie_id', values='rating').fillna(0)\n",
    "X = (pivot >= 4).astype(int).to_numpy()\n",
    "\n",
    "# Original pivoted binary matrix\n",
    "X_full = (pivot >= 4).astype(int).to_numpy()\n",
    "\n",
    "# Shrink: randomly sample, say, 50 users\n",
    "np.random.seed(42)\n",
    "sample_indices = np.random.choice(X_full.shape[0], size=50, replace=False)\n",
    "X_small = X_full[sample_indices]\n",
    "\n",
    "# Optionally, reduce number of movies too (e.g., first 5 movies)\n",
    "X_small = X_small[:, :5]\n",
    "\n"
   ]
  },
  {
   "cell_type": "code",
   "execution_count": 63,
   "metadata": {},
   "outputs": [],
   "source": [
    "movies = pd.read_csv('ml-100k/u.item', sep='|', encoding='latin-1', header=None, usecols=[0, 1], names=['movie_id', 'title'])\n",
    "id_to_title = dict(zip(movies['movie_id'], movies['title']))\n",
    "short = {i: id_to_title[mid] for i, mid in enumerate(pivot.columns)}\n",
    "\n"
   ]
  },
  {
   "cell_type": "code",
   "execution_count": 64,
   "metadata": {},
   "outputs": [],
   "source": [
    "# Xtr, Xte = train_test_split(X, test_size=0.2, random_state=42)\n",
    "Xtr, Xte = train_test_split(X_small, test_size=0.2, random_state=1)\n",
    "\n"
   ]
  },
  {
   "cell_type": "code",
   "execution_count": 65,
   "metadata": {},
   "outputs": [
    {
     "name": "stdout",
     "output_type": "stream",
     "text": [
      "Independent model Train LL: -3.1238857069862243\n",
      "Independent model Test  LL: -3.4833400772998457\n"
     ]
    }
   ],
   "source": [
    "pXi = np.mean(Xtr, axis=0)\n",
    "model0 = gm.GraphModel([gm.Factor([gm.Var(i, 2)], [1 - pXi[i], pXi[i]]) for i in range(Xtr.shape[1])])\n",
    "\n",
    "print(\"Independent model Train LL:\", np.mean([model0.logValue(x) for x in Xtr]))\n",
    "print(\"Independent model Test  LL:\", np.mean([model0.logValue(x) for x in Xte]))\n"
   ]
  },
  {
   "cell_type": "code",
   "execution_count": 66,
   "metadata": {},
   "outputs": [
    {
     "name": "stdout",
     "output_type": "stream",
     "text": [
      "Average connectivity at C = 0.5 : 1.2 +/- 0.7483314773547883\n"
     ]
    },
    {
     "name": "stderr",
     "output_type": "stream",
     "text": [
      "/var/folders/dd/mj_wq35n4yxbxcg8pvwwyrx00000gn/T/ipykernel_72484/2508877422.py:13: DeprecationWarning: Conversion of an array with ndim > 0 to a scalar is deprecated, and will error in future. Ensure you extract a single element from your array before performing this operation. (Deprecated NumPy 1.25.)\n",
      "  th_i[i] = lr.intercept_ / 2.\n",
      "/var/folders/dd/mj_wq35n4yxbxcg8pvwwyrx00000gn/T/ipykernel_72484/2508877422.py:13: DeprecationWarning: Conversion of an array with ndim > 0 to a scalar is deprecated, and will error in future. Ensure you extract a single element from your array before performing this operation. (Deprecated NumPy 1.25.)\n",
      "  th_i[i] = lr.intercept_ / 2.\n",
      "/var/folders/dd/mj_wq35n4yxbxcg8pvwwyrx00000gn/T/ipykernel_72484/2508877422.py:13: DeprecationWarning: Conversion of an array with ndim > 0 to a scalar is deprecated, and will error in future. Ensure you extract a single element from your array before performing this operation. (Deprecated NumPy 1.25.)\n",
      "  th_i[i] = lr.intercept_ / 2.\n",
      "/var/folders/dd/mj_wq35n4yxbxcg8pvwwyrx00000gn/T/ipykernel_72484/2508877422.py:13: DeprecationWarning: Conversion of an array with ndim > 0 to a scalar is deprecated, and will error in future. Ensure you extract a single element from your array before performing this operation. (Deprecated NumPy 1.25.)\n",
      "  th_i[i] = lr.intercept_ / 2.\n",
      "/var/folders/dd/mj_wq35n4yxbxcg8pvwwyrx00000gn/T/ipykernel_72484/2508877422.py:13: DeprecationWarning: Conversion of an array with ndim > 0 to a scalar is deprecated, and will error in future. Ensure you extract a single element from your array before performing this operation. (Deprecated NumPy 1.25.)\n",
      "  th_i[i] = lr.intercept_ / 2.\n"
     ]
    }
   ],
   "source": [
    "C = 0.5  # Regularization strength\n",
    "\n",
    "nMovies = Xtr.shape[1]  # Use training set shape, not original X\n",
    "\n",
    "nbrs, th_ij, th_i = [None] * nMovies, [None] * nMovies, np.zeros((nMovies,))\n",
    "Xtmp = np.copy(Xtr)\n",
    "\n",
    "for i in range(nMovies):\n",
    "    Xtmp[:, i] = 0.  # temporarily remove column i from input\n",
    "    lr = LogisticRegression(penalty='l1', C=C, solver='liblinear').fit(Xtmp, Xtr[:, i])\n",
    "    nbrs[i] = np.where(np.abs(lr.coef_) > 1e-6)[1]\n",
    "    th_ij[i] = lr.coef_[0, nbrs[i]] / 2.\n",
    "    th_i[i] = lr.intercept_ / 2.\n",
    "    Xtmp[:, i] = Xtr[:, i]  # restore column i\n",
    "\n",
    "print(\"Average connectivity at C =\", C, \":\", np.mean([len(nn) for nn in nbrs]), \"+/-\", np.std([len(nn) for nn in nbrs]))\n"
   ]
  },
  {
   "cell_type": "code",
   "execution_count": 71,
   "metadata": {},
   "outputs": [
    {
     "name": "stdout",
     "output_type": "stream",
     "text": [
      "{0: 'Movie Toy Story (1995)', 1: 'Movie Star Wars (1977)', 2: 'Movie Fargo (1996)', 3: 'Movie Independence Day (ID4) (1996)', 4: 'Movie Return of the Jedi (1983)'}\n",
      "{0: 'Movie Toy Story (1995)', 1: 'Movie Star Wars (1977)', 2: 'Movie Fargo (1996)', 3: 'Movie Independence Day (ID4) (1996)', 4: 'Movie Return of the Jedi (1983)'}\n"
     ]
    },
    {
     "data": {
      "text/plain": [
       "<networkx.classes.graph.Graph at 0x7fa2621d9220>"
      ]
     },
     "execution_count": 71,
     "metadata": {},
     "output_type": "execute_result"
    },
    {
     "data": {
      "image/png": "[encoded data removed]",
      "text/plain": [
       "<Figure size 432x288 with 1 Axes>"
      ]
     },
     "metadata": {},
     "output_type": "display_data"
    }
   ],
   "source": [
    "factors = [gm.Factor(gm.Var(i, 2), [-t, t]).exp() for i, t in enumerate(th_i)]\n",
    "for i in range(nMovies):\n",
    "    for j, n in enumerate(nbrs[i]):\n",
    "        scope = [gm.Var(i, 2), gm.Var(int(n), 2)]\n",
    "        t = th_ij[i][j]\n",
    "        factors.append(gm.Factor(scope, [[t, -t], [-t, t]]).exp())\n",
    "\n",
    "model1 = gm.GraphModel(factors)\n",
    "model1.makeMinimal()\n",
    "titles = short.copy()\n",
    "print(titles)\n",
    "short = {var.label: f\"{titles[var.label]}\" for var in model1.vars}\n",
    "print(short)\n",
    "\n",
    "\n",
    "gm.drawMarkovGraph(model1, labels=short)\n"
   ]
  },
  {
   "cell_type": "code",
   "execution_count": 36,
   "metadata": {},
   "outputs": [
    {
     "name": "stdout",
     "output_type": "stream",
     "text": [
      "Log partition function: 4.613474848461795\n",
      "Ising Train LL: -3.191139536376672\n",
      "Ising Test LL: -3.8993778691343284\n"
     ]
    }
   ],
   "source": [
    "order, _ = gm.eliminationOrder(model1, 'minfill')\n",
    "jt = gm.wmb.JTree(model1, elimOrder=order)\n",
    "lnZ = jt.msgForward()\n",
    "\n",
    "print(\"Log partition function:\", lnZ)\n",
    "print(\"Ising Train LL:\", np.mean([model1.logValue(x) for x in Xtr]) - lnZ)\n",
    "print(\"Ising Test LL:\", np.mean([model1.logValue(x) for x in Xte]) - lnZ)\n"
   ]
  },
  {
   "cell_type": "code",
   "execution_count": 74,
   "metadata": {},
   "outputs": [],
   "source": [
    "def conditional(factor, i, x):\n",
    "    return factor.t[tuple(x[v] if v != i else slice(v.states) for v in factor.vars)]\n",
    "\n",
    "def pseudolikelihood(model, X):\n",
    "    LL = np.zeros(X.shape)\n",
    "    for i in range(X.shape[1]):  # for each variable (movie)\n",
    "        flist = model.factorsWith(i, copy=False)\n",
    "        for j in range(X.shape[0]):  # for each data point (user)\n",
    "            pXi = 1.\n",
    "            for f in flist:\n",
    "                pXi *= conditional(f, i, X[j])\n",
    "            LL[j, i] = np.log(pXi[X[j, i]] / pXi.sum())\n",
    "    return LL.sum(1)\n"
   ]
  },
  {
   "cell_type": "code",
   "execution_count": 75,
   "metadata": {},
   "outputs": [
    {
     "name": "stdout",
     "output_type": "stream",
     "text": [
      "Pseudo-likelihood (Train): -2.937699058695827\n",
      "Pseudo-likelihood (Test): -4.350596218818228\n"
     ]
    }
   ],
   "source": [
    "print(\"Pseudo-likelihood (Train):\", pseudolikelihood(model1, Xtr).mean())\n",
    "print(\"Pseudo-likelihood (Test):\", pseudolikelihood(model1, Xte).mean())\n"
   ]
  }
 ],
 "metadata": {
  "kernelspec": {
   "display_name": "Python 3",
   "language": "python",
   "name": "python3"
  },
  "language_info": {
   "codemirror_mode": {
    "name": "ipython",
    "version": 3
   },
   "file_extension": ".py",
   "mimetype": "text/x-python",
   "name": "python",
   "nbconvert_exporter": "python",
   "pygments_lexer": "ipython3",
   "version": "3.9.6"
  }
 },
 "nbformat": 4,
 "nbformat_minor": 2
}
