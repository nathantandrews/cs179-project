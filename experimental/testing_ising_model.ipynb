{
 "cells": [
  {
   "cell_type": "code",
   "execution_count": 1,
   "metadata": {},
   "outputs": [],
   "source": [
    "import os\n",
    "import zipfile\n",
    "import urllib.request\n",
    "import ssl\n",
    "import pandas as pd\n",
    "import numpy as np\n",
    "from sklearn.model_selection import train_test_split\n",
    "import matplotlib.pyplot as plt\n",
    "\n",
    "# pyGMs library\n",
    "import pyGMs as gm\n",
    "import pyGMs.ising\n",
    "import pyGMs.wmb\n",
    "import warnings\n",
    "warnings.filterwarnings('ignore')\n",
    "\n",
    "%matplotlib inline\n"
   ]
  },
  {
   "cell_type": "markdown",
   "metadata": {},
   "source": [
    "# Download Dataset"
   ]
  },
  {
   "cell_type": "code",
   "execution_count": 2,
   "metadata": {},
   "outputs": [
    {
     "name": "stdout",
     "output_type": "stream",
     "text": [
      "Dataset already exists.\n"
     ]
    }
   ],
   "source": [
    "dataset_url = \"https://files.grouplens.org/datasets/movielens/ml-latest.zip\"\n",
    "zip_file = \"ml-latest.zip\"\n",
    "extract_folder = \"ml-latest\"\n",
    "\n",
    "# Mac workaround (only if needed)\n",
    "ssl._create_default_https_context = ssl._create_unverified_context\n",
    "\n",
    "if not os.path.exists(extract_folder):\n",
    "    print(\"Downloading MovieLens dataset...\")\n",
    "    urllib.request.urlretrieve(dataset_url, zip_file)\n",
    "    print(\"Extracting...\")\n",
    "    with zipfile.ZipFile(zip_file, 'r') as zip_ref:\n",
    "        zip_ref.extractall()\n",
    "    print(\"Done.\")\n",
    "else:\n",
    "    print(\"Dataset already exists.\")\n"
   ]
  },
  {
   "cell_type": "code",
   "execution_count": 3,
   "metadata": {},
   "outputs": [],
   "source": [
    "ratings = pd.read_csv('ml-latest/ratings.csv')\n",
    "\n",
    "# Filter top users/movies\n",
    "top_users = ratings['userId'].value_counts().head(1000).index\n",
    "top_movies = ratings['movieId'].value_counts().head(250).index\n",
    "\n",
    "\n",
    "filtered = ratings[(ratings['userId'].isin(top_users)) & (ratings['movieId'].isin(top_movies))]\n",
    "pivot = filtered.pivot(index='userId', columns='movieId', values='rating').fillna(0)\n",
    "\n",
    "# Binary matrix: 1 if liked (rating ≥ 4), else 0\n",
    "X = (pivot >= 4.0).astype(int).to_numpy()\n"
   ]
  },
  {
   "cell_type": "code",
   "execution_count": 4,
   "metadata": {
    "scrolled": true
   },
   "outputs": [
    {
     "name": "stdout",
     "output_type": "stream",
     "text": [
      "{0: 'Toy Story (1995)', 1: 'Jumanji (1995)', 2: 'Heat (1995)', 3: 'GoldenEye (1995)', 4: 'Casino (1995)', 5: 'Sense and Sensibility (1995)', 6: 'Ace Ventura: When Nature Calls (1995)', 7: 'Get Shorty (1995)', 8: 'Leaving Las Vegas (1995)', 9: 'Twelve Monkeys (a.k.a. 12 Monkeys) (1995)', 10: 'Babe (1995)', 11: 'Dead Man Walking (1995)', 12: 'Clueless (1995)', 13: 'Seven (a.k.a. Se7en) (1995)', 14: 'Usual Suspects, The (1995)', 15: \"Mr. Holland's Opus (1995)\", 16: 'Broken Arrow (1996)', 17: 'Happy Gilmore (1996)', 18: 'Braveheart (1995)', 19: 'Taxi Driver (1976)', 20: 'Birdcage, The (1996)', 21: 'Apollo 13 (1995)', 22: 'Batman Forever (1995)', 23: 'Crimson Tide (1995)', 24: 'Die Hard: With a Vengeance (1995)', 25: 'Net, The (1995)', 26: 'Waterworld (1995)', 27: 'Clerks (1994)', 28: 'Dumb & Dumber (Dumb and Dumber) (1994)', 29: 'Interview with the Vampire: The Vampire Chronicles (1994)', 30: 'Star Wars: Episode IV - A New Hope (1977)', 31: 'Natural Born Killers (1994)', 32: 'Outbreak (1995)', 33: 'Léon: The Professional (a.k.a. The Professional) (Léon) (1994)', 34: 'Pulp Fiction (1994)', 35: 'Stargate (1994)', 36: 'Shawshank Redemption, The (1994)', 37: 'Star Trek: Generations (1994)', 38: 'While You Were Sleeping (1995)', 39: 'Ace Ventura: Pet Detective (1994)', 40: 'Clear and Present Danger (1994)', 41: 'Forrest Gump (1994)', 42: 'Four Weddings and a Funeral (1994)', 43: 'Lion King, The (1994)', 44: 'Mask, The (1994)', 45: 'Speed (1994)', 46: 'True Lies (1994)', 47: 'Cliffhanger (1993)', 48: 'Firm, The (1993)', 49: 'Fugitive, The (1993)', 50: 'Jurassic Park (1993)', 51: 'Mrs. Doubtfire (1993)', 52: 'Philadelphia (1993)', 53: \"Schindler's List (1993)\", 54: 'Sleepless in Seattle (1993)', 55: 'Blade Runner (1982)', 56: 'Nightmare Before Christmas, The (1993)', 57: 'Home Alone (1990)', 58: 'Ghost (1990)', 59: 'Aladdin (1992)', 60: 'Terminator 2: Judgment Day (1991)', 61: 'Dances with Wolves (1990)', 62: 'Batman (1989)', 63: 'Silence of the Lambs, The (1991)', 64: 'Beauty and the Beast (1991)', 65: 'Pretty Woman (1990)', 66: 'Fargo (1996)', 67: 'Mission: Impossible (1996)', 68: 'Rock, The (1996)', 69: 'Twister (1996)', 70: 'Dr. Strangelove or: How I Learned to Stop Worrying and Love the Bomb (1964)', 71: 'Trainspotting (1996)', 72: 'Independence Day (a.k.a. ID4) (1996)', 73: 'Nutty Professor, The (1996)', 74: 'Godfather, The (1972)', 75: 'Rear Window (1954)', 76: 'Casablanca (1942)', 77: 'Wizard of Oz, The (1939)', 78: 'Citizen Kane (1941)', 79: '2001: A Space Odyssey (1968)', 80: 'Die Hard (1988)', 81: 'Willy Wonka & the Chocolate Factory (1971)', 82: 'Fish Called Wanda, A (1988)', 83: \"Monty Python's Life of Brian (1979)\", 84: 'Reservoir Dogs (1992)', 85: 'E.T. the Extra-Terrestrial (1982)', 86: 'Top Gun (1986)', 87: 'Monty Python and the Holy Grail (1975)', 88: \"One Flew Over the Cuckoo's Nest (1975)\", 89: 'Star Wars: Episode V - The Empire Strikes Back (1980)', 90: 'Princess Bride, The (1987)', 91: 'Raiders of the Lost Ark (Indiana Jones and the Raiders of the Lost Ark) (1981)', 92: 'Aliens (1986)', 93: 'Good, the Bad and the Ugly, The (Buono, il brutto, il cattivo, Il) (1966)', 94: 'Clockwork Orange, A (1971)', 95: 'Apocalypse Now (1979)', 96: 'Star Wars: Episode VI - Return of the Jedi (1983)', 97: 'Goodfellas (1990)', 98: 'Alien (1979)', 99: 'Psycho (1960)', 100: 'Blues Brothers, The (1980)', 101: 'Godfather: Part II, The (1974)', 102: 'Full Metal Jacket (1987)', 103: 'Amadeus (1984)', 104: 'Terminator, The (1984)', 105: 'Dead Poets Society (1989)', 106: 'Graduate, The (1967)', 107: 'Shining, The (1980)', 108: 'Stand by Me (1986)', 109: 'Groundhog Day (1993)', 110: 'Back to the Future (1985)', 111: 'Indiana Jones and the Last Crusade (1989)', 112: 'When Harry Met Sally... (1989)', 113: 'Star Trek: First Contact (1996)', 114: 'Jaws (1975)', 115: 'Jerry Maguire (1996)', 116: 'Liar Liar (1997)', 117: 'Austin Powers: International Man of Mystery (1997)', 118: 'Fifth Element, The (1997)', 119: 'Face/Off (1997)', 120: 'Men in Black (a.k.a. MIB) (1997)', 121: 'Contact (1997)', 122: 'Hunt for Red October, The (1990)', 123: 'L.A. Confidential (1997)', 124: 'Game, The (1997)', 125: 'Gattaca (1997)', 126: 'Truman Show, The (1998)', 127: 'Good Will Hunting (1997)', 128: 'Titanic (1997)', 129: 'Big Lebowski, The (1998)', 130: 'As Good as It Gets (1997)', 131: 'Armageddon (1998)', 132: \"There's Something About Mary (1998)\", 133: 'Rain Man (1988)', 134: 'Breakfast Club, The (1985)', 135: 'Back to the Future Part II (1989)', 136: 'Back to the Future Part III (1990)', 137: 'Saving Private Ryan (1998)', 138: 'Indiana Jones and the Temple of Doom (1984)', 139: 'Beetlejuice (1988)', 140: 'Edward Scissorhands (1990)', 141: 'Life Is Beautiful (La Vita è bella) (1997)', 142: 'American History X (1998)', 143: \"Bug's Life, A (1998)\", 144: 'Shakespeare in Love (1998)', 145: 'Office Space (1999)', 146: 'Lock, Stock & Two Smoking Barrels (1998)', 147: 'Matrix, The (1999)', 148: 'Mummy, The (1999)', 149: 'Star Wars: Episode I - The Phantom Menace (1999)', 150: 'Austin Powers: The Spy Who Shagged Me (1999)', 151: 'Run Lola Run (Lola rennt) (1998)', 152: 'American Pie (1999)', 153: 'Blair Witch Project, The (1999)', 154: 'Ghostbusters (a.k.a. Ghost Busters) (1984)', 155: 'Sixth Sense, The (1999)', 156: 'Airplane! (1980)', 157: 'Big (1988)', 158: 'American Beauty (1999)', 159: 'Total Recall (1990)', 160: \"Ferris Bueller's Day Off (1986)\", 161: 'Fight Club (1999)', 162: 'Who Framed Roger Rabbit? (1988)', 163: 'Being John Malkovich (1999)', 164: 'Toy Story 2 (1999)', 165: 'Green Mile, The (1999)', 166: 'Gladiator (2000)', 167: 'Mission: Impossible II (2000)', 168: 'Chicken Run (2000)', 169: 'X-Men (2000)', 170: 'Almost Famous (2000)', 171: 'Meet the Parents (2000)', 172: 'Requiem for a Dream (2000)', 173: \"Charlie's Angels (2000)\", 174: 'Crouching Tiger, Hidden Dragon (Wo hu cang long) (2000)', 175: 'Snatch (2000)', 176: 'Cast Away (2000)', 177: 'O Brother, Where Art Thou? (2000)', 178: 'Memento (2000)', 179: 'Shrek (2001)', 180: 'Donnie Darko (2001)', 181: 'Monsters, Inc. (2001)', 182: \"Harry Potter and the Sorcerer's Stone (a.k.a. Harry Potter and the Philosopher's Stone) (2001)\", 183: \"Ocean's Eleven (2001)\", 184: \"Amelie (Fabuleux destin d'Amélie Poulain, Le) (2001)\", 185: 'Lord of the Rings: The Fellowship of the Ring, The (2001)', 186: 'Beautiful Mind, A (2001)', 187: 'Ice Age (2002)', 188: 'Spider-Man (2002)', 189: 'Star Wars: Episode II - Attack of the Clones (2002)', 190: 'Bourne Identity, The (2002)', 191: 'Minority Report (2002)', 192: 'Spirited Away (Sen to Chihiro no kamikakushi) (2001)', 193: 'Harry Potter and the Chamber of Secrets (2002)', 194: 'Lord of the Rings: The Two Towers, The (2002)', 195: 'Catch Me If You Can (2002)', 196: 'Pianist, The (2002)', 197: 'City of God (Cidade de Deus) (2002)', 198: 'X2: X-Men United (2003)', 199: 'Matrix Reloaded, The (2003)', 200: 'Finding Nemo (2003)', 201: 'Pirates of the Caribbean: The Curse of the Black Pearl (2003)', 202: 'Lost in Translation (2003)', 203: 'Kill Bill: Vol. 1 (2003)', 204: 'Matrix Revolutions, The (2003)', 205: 'Lord of the Rings: The Return of the King, The (2003)', 206: 'Eternal Sunshine of the Spotless Mind (2004)', 207: 'Kill Bill: Vol. 2 (2004)', 208: 'Shrek 2 (2004)', 209: 'Harry Potter and the Prisoner of Azkaban (2004)', 210: 'Spider-Man 2 (2004)', 211: 'I, Robot (2004)', 212: 'Bourne Supremacy, The (2004)', 213: 'Shaun of the Dead (2004)', 214: 'Incredibles, The (2004)', 215: 'Sin City (2005)', 216: 'Star Wars: Episode III - Revenge of the Sith (2005)', 217: 'Batman Begins (2005)', 218: 'Harry Potter and the Goblet of Fire (2005)', 219: 'V for Vendetta (2006)', 220: 'Little Miss Sunshine (2006)', 221: \"Pan's Labyrinth (Laberinto del fauno, El) (2006)\", 222: 'Departed, The (2006)', 223: 'Prestige, The (2006)', 224: 'Casino Royale (2006)', 225: 'Ratatouille (2007)', 226: '300 (2007)', 227: 'Bourne Ultimatum, The (2007)', 228: 'No Country for Old Men (2007)', 229: 'Juno (2007)', 230: 'Dark Knight, The (2008)', 231: 'Iron Man (2008)', 232: 'WALL·E (2008)', 233: 'Slumdog Millionaire (2008)', 234: 'Inglourious Basterds (2009)', 235: 'Up (2009)', 236: 'Hangover, The (2009)', 237: 'District 9 (2009)', 238: 'Avatar (2009)', 239: 'Shutter Island (2010)', 240: 'Inception (2010)', 241: 'Avengers, The (2012)', 242: 'Dark Knight Rises, The (2012)', 243: 'Django Unchained (2012)', 244: 'Wolf of Wall Street, The (2013)', 245: 'Interstellar (2014)', 246: 'Guardians of the Galaxy (2014)', 247: 'The Imitation Game (2014)', 248: 'Deadpool (2016)', 249: 'The Martian (2015)'}\n"
     ]
    }
   ],
   "source": [
    "movies = pd.read_csv(os.path.join(extract_folder, 'movies.csv'))\n",
    "id_to_title = dict(zip(movies['movieId'], movies['title']))\n",
    "\n",
    "# Build a short label dictionary for visualization\n",
    "short = {i: id_to_title[mid] for i, mid in enumerate(pivot.columns)}\n",
    "print(short)\n"
   ]
  },
  {
   "cell_type": "code",
   "execution_count": 5,
   "metadata": {},
   "outputs": [],
   "source": [
    "Xtr, Xte = train_test_split(X, test_size=0.2, random_state=42)\n",
    "nMovies = Xtr.shape[1]\n"
   ]
  },
  {
   "cell_type": "code",
   "execution_count": 6,
   "metadata": {},
   "outputs": [
    {
     "name": "stdout",
     "output_type": "stream",
     "text": [
      "Independent model Train LL: -155.09829868656539\n",
      "Independent model Test  LL: -155.68010474922153\n"
     ]
    }
   ],
   "source": [
    "pXi = np.mean(Xtr, axis=0)\n",
    "model0 = gm.GraphModel([gm.Factor([gm.Var(i, 2)], [1 - pXi[i], pXi[i]]) for i in range(nMovies)])\n",
    "\n",
    "print(\"Independent model Train LL:\", np.mean([model0.logValue(x) for x in Xtr]))\n",
    "print(\"Independent model Test  LL:\", np.mean([model0.logValue(x) for x in Xte]))\n"
   ]
  },
  {
   "cell_type": "code",
   "execution_count": 7,
   "metadata": {},
   "outputs": [
    {
     "name": "stdout",
     "output_type": "stream",
     "text": [
      "Average connectivity at C = 0.045 : 10.472\n"
     ]
    }
   ],
   "source": [
    "from sklearn.linear_model import LogisticRegression\n",
    "\n",
    "C = 0.045  # Regularization strength\n",
    "nbrs, th_ij, th_i = [None] * nMovies, [None] * nMovies, np.zeros((nMovies,))\n",
    "Xtmp = np.copy(Xtr)\n",
    "\n",
    "for i in range(nMovies):\n",
    "    Xtmp[:, i] = 0.\n",
    "    lr = LogisticRegression(penalty='l1', C=C, solver='liblinear').fit(Xtmp, Xtr[:, i])\n",
    "    nbrs[i] = np.where(np.abs(lr.coef_) > 1e-6)[1]\n",
    "    th_ij[i] = lr.coef_[0, nbrs[i]] / 2.\n",
    "    th_i[i] = lr.intercept_ / 2.\n",
    "    Xtmp[:, i] = Xtr[:, i]\n",
    "\n",
    "print(\"Average connectivity at C =\", C, \":\", np.mean([len(nn) for nn in nbrs]))\n"
   ]
  },
  {
   "cell_type": "code",
   "execution_count": 8,
   "metadata": {},
   "outputs": [],
   "source": [
    "factors = [gm.Factor(gm.Var(i, 2), [-t, t]).exp() for i, t in enumerate(th_i)]\n",
    "for i in range(nMovies):\n",
    "    for j, n in enumerate(nbrs[i]):\n",
    "        scope = [gm.Var(i, 2), gm.Var(int(n), 2)]\n",
    "        t = th_ij[i][j]\n",
    "        factors.append(gm.Factor(scope, [[t, -t], [-t, t]]).exp())\n",
    "\n",
    "model1 = gm.GraphModel(factors)\n",
    "model1.makeMinimal()\n"
   ]
  },
  {
   "cell_type": "code",
   "execution_count": 9,
   "metadata": {},
   "outputs": [
    {
     "name": "stdout",
     "output_type": "stream",
     "text": [
      "Movie Index to Title Mapping:\n",
      "----------------------------------------\n",
      "Movie 0: Toy Story (1995)\n",
      "Movie 1: Jumanji (1995)\n",
      "Movie 2: Heat (1995)\n",
      "Movie 3: GoldenEye (1995)\n",
      "Movie 4: Casino (1995)\n",
      "Movie 5: Sense and Sensibility (1995)\n",
      "Movie 6: Ace Ventura: When Nature Calls (1995)\n",
      "Movie 7: Get Shorty (1995)\n",
      "Movie 8: Leaving Las Vegas (1995)\n",
      "Movie 9: Twelve Monkeys (a.k.a. 12 Monkeys) (1995)\n",
      "Movie 10: Babe (1995)\n",
      "Movie 11: Dead Man Walking (1995)\n",
      "Movie 12: Clueless (1995)\n",
      "Movie 13: Seven (a.k.a. Se7en) (1995)\n",
      "Movie 14: Usual Suspects, The (1995)\n",
      "Movie 15: Mr. Holland's Opus (1995)\n",
      "Movie 16: Broken Arrow (1996)\n",
      "Movie 17: Happy Gilmore (1996)\n",
      "Movie 18: Braveheart (1995)\n",
      "Movie 19: Taxi Driver (1976)\n",
      "Movie 20: Birdcage, The (1996)\n",
      "Movie 21: Apollo 13 (1995)\n",
      "Movie 22: Batman Forever (1995)\n",
      "Movie 23: Crimson Tide (1995)\n",
      "Movie 24: Die Hard: With a Vengeance (1995)\n",
      "Movie 25: Net, The (1995)\n",
      "Movie 26: Waterworld (1995)\n",
      "Movie 27: Clerks (1994)\n",
      "Movie 28: Dumb & Dumber (Dumb and Dumber) (1994)\n",
      "Movie 29: Interview with the Vampire: The Vampire Chronicles (1994)\n",
      "Movie 30: Star Wars: Episode IV - A New Hope (1977)\n",
      "Movie 31: Natural Born Killers (1994)\n",
      "Movie 32: Outbreak (1995)\n",
      "Movie 33: Léon: The Professional (a.k.a. The Professional) (Léon) (1994)\n",
      "Movie 34: Pulp Fiction (1994)\n",
      "Movie 35: Stargate (1994)\n",
      "Movie 36: Shawshank Redemption, The (1994)\n",
      "Movie 37: Star Trek: Generations (1994)\n",
      "Movie 38: While You Were Sleeping (1995)\n",
      "Movie 39: Ace Ventura: Pet Detective (1994)\n",
      "Movie 40: Clear and Present Danger (1994)\n",
      "Movie 41: Forrest Gump (1994)\n",
      "Movie 42: Four Weddings and a Funeral (1994)\n",
      "Movie 43: Lion King, The (1994)\n",
      "Movie 44: Mask, The (1994)\n",
      "Movie 45: Speed (1994)\n",
      "Movie 46: True Lies (1994)\n",
      "Movie 47: Cliffhanger (1993)\n",
      "Movie 48: Firm, The (1993)\n",
      "Movie 49: Fugitive, The (1993)\n",
      "Movie 50: Jurassic Park (1993)\n",
      "Movie 51: Mrs. Doubtfire (1993)\n",
      "Movie 52: Philadelphia (1993)\n",
      "Movie 53: Schindler's List (1993)\n",
      "Movie 54: Sleepless in Seattle (1993)\n",
      "Movie 55: Blade Runner (1982)\n",
      "Movie 56: Nightmare Before Christmas, The (1993)\n",
      "Movie 57: Home Alone (1990)\n",
      "Movie 58: Ghost (1990)\n",
      "Movie 59: Aladdin (1992)\n",
      "Movie 60: Terminator 2: Judgment Day (1991)\n",
      "Movie 61: Dances with Wolves (1990)\n",
      "Movie 62: Batman (1989)\n",
      "Movie 63: Silence of the Lambs, The (1991)\n",
      "Movie 64: Beauty and the Beast (1991)\n",
      "Movie 65: Pretty Woman (1990)\n",
      "Movie 66: Fargo (1996)\n",
      "Movie 67: Mission: Impossible (1996)\n",
      "Movie 68: Rock, The (1996)\n",
      "Movie 69: Twister (1996)\n",
      "Movie 70: Dr. Strangelove or: How I Learned to Stop Worrying and Love the Bomb (1964)\n",
      "Movie 71: Trainspotting (1996)\n",
      "Movie 72: Independence Day (a.k.a. ID4) (1996)\n",
      "Movie 73: Nutty Professor, The (1996)\n",
      "Movie 74: Godfather, The (1972)\n",
      "Movie 75: Rear Window (1954)\n",
      "Movie 76: Casablanca (1942)\n",
      "Movie 77: Wizard of Oz, The (1939)\n",
      "Movie 78: Citizen Kane (1941)\n",
      "Movie 79: 2001: A Space Odyssey (1968)\n",
      "Movie 80: Die Hard (1988)\n",
      "Movie 81: Willy Wonka & the Chocolate Factory (1971)\n",
      "Movie 82: Fish Called Wanda, A (1988)\n",
      "Movie 83: Monty Python's Life of Brian (1979)\n",
      "Movie 84: Reservoir Dogs (1992)\n",
      "Movie 85: E.T. the Extra-Terrestrial (1982)\n",
      "Movie 86: Top Gun (1986)\n",
      "Movie 87: Monty Python and the Holy Grail (1975)\n",
      "Movie 88: One Flew Over the Cuckoo's Nest (1975)\n",
      "Movie 89: Star Wars: Episode V - The Empire Strikes Back (1980)\n",
      "Movie 90: Princess Bride, The (1987)\n",
      "Movie 91: Raiders of the Lost Ark (Indiana Jones and the Raiders of the Lost Ark) (1981)\n",
      "Movie 92: Aliens (1986)\n",
      "Movie 93: Good, the Bad and the Ugly, The (Buono, il brutto, il cattivo, Il) (1966)\n",
      "Movie 94: Clockwork Orange, A (1971)\n",
      "Movie 95: Apocalypse Now (1979)\n",
      "Movie 96: Star Wars: Episode VI - Return of the Jedi (1983)\n",
      "Movie 97: Goodfellas (1990)\n",
      "Movie 98: Alien (1979)\n",
      "Movie 99: Psycho (1960)\n",
      "Movie 100: Blues Brothers, The (1980)\n",
      "Movie 101: Godfather: Part II, The (1974)\n",
      "Movie 102: Full Metal Jacket (1987)\n",
      "Movie 103: Amadeus (1984)\n",
      "Movie 104: Terminator, The (1984)\n",
      "Movie 105: Dead Poets Society (1989)\n",
      "Movie 106: Graduate, The (1967)\n",
      "Movie 107: Shining, The (1980)\n",
      "Movie 108: Stand by Me (1986)\n",
      "Movie 109: Groundhog Day (1993)\n",
      "Movie 110: Back to the Future (1985)\n",
      "Movie 111: Indiana Jones and the Last Crusade (1989)\n",
      "Movie 112: When Harry Met Sally... (1989)\n",
      "Movie 113: Star Trek: First Contact (1996)\n",
      "Movie 114: Jaws (1975)\n",
      "Movie 115: Jerry Maguire (1996)\n",
      "Movie 116: Liar Liar (1997)\n",
      "Movie 117: Austin Powers: International Man of Mystery (1997)\n",
      "Movie 118: Fifth Element, The (1997)\n",
      "Movie 119: Face/Off (1997)\n",
      "Movie 120: Men in Black (a.k.a. MIB) (1997)\n",
      "Movie 121: Contact (1997)\n",
      "Movie 122: Hunt for Red October, The (1990)\n",
      "Movie 123: L.A. Confidential (1997)\n",
      "Movie 124: Game, The (1997)\n",
      "Movie 125: Gattaca (1997)\n",
      "Movie 126: Truman Show, The (1998)\n",
      "Movie 127: Good Will Hunting (1997)\n",
      "Movie 128: Titanic (1997)\n",
      "Movie 129: Big Lebowski, The (1998)\n",
      "Movie 130: As Good as It Gets (1997)\n",
      "Movie 131: Armageddon (1998)\n",
      "Movie 132: There's Something About Mary (1998)\n",
      "Movie 133: Rain Man (1988)\n",
      "Movie 134: Breakfast Club, The (1985)\n",
      "Movie 135: Back to the Future Part II (1989)\n",
      "Movie 136: Back to the Future Part III (1990)\n",
      "Movie 137: Saving Private Ryan (1998)\n",
      "Movie 138: Indiana Jones and the Temple of Doom (1984)\n",
      "Movie 139: Beetlejuice (1988)\n",
      "Movie 140: Edward Scissorhands (1990)\n",
      "Movie 141: Life Is Beautiful (La Vita è bella) (1997)\n",
      "Movie 142: American History X (1998)\n",
      "Movie 143: Bug's Life, A (1998)\n",
      "Movie 144: Shakespeare in Love (1998)\n",
      "Movie 145: Office Space (1999)\n",
      "Movie 146: Lock, Stock & Two Smoking Barrels (1998)\n",
      "Movie 147: Matrix, The (1999)\n",
      "Movie 148: Mummy, The (1999)\n",
      "Movie 149: Star Wars: Episode I - The Phantom Menace (1999)\n",
      "Movie 150: Austin Powers: The Spy Who Shagged Me (1999)\n",
      "Movie 151: Run Lola Run (Lola rennt) (1998)\n",
      "Movie 152: American Pie (1999)\n",
      "Movie 153: Blair Witch Project, The (1999)\n",
      "Movie 154: Ghostbusters (a.k.a. Ghost Busters) (1984)\n",
      "Movie 155: Sixth Sense, The (1999)\n",
      "Movie 156: Airplane! (1980)\n",
      "Movie 157: Big (1988)\n",
      "Movie 158: American Beauty (1999)\n",
      "Movie 159: Total Recall (1990)\n",
      "Movie 160: Ferris Bueller's Day Off (1986)\n",
      "Movie 161: Fight Club (1999)\n",
      "Movie 162: Who Framed Roger Rabbit? (1988)\n",
      "Movie 163: Being John Malkovich (1999)\n",
      "Movie 164: Toy Story 2 (1999)\n",
      "Movie 165: Green Mile, The (1999)\n",
      "Movie 166: Gladiator (2000)\n",
      "Movie 167: Mission: Impossible II (2000)\n",
      "Movie 168: Chicken Run (2000)\n",
      "Movie 169: X-Men (2000)\n",
      "Movie 170: Almost Famous (2000)\n",
      "Movie 171: Meet the Parents (2000)\n",
      "Movie 172: Requiem for a Dream (2000)\n",
      "Movie 173: Charlie's Angels (2000)\n",
      "Movie 174: Crouching Tiger, Hidden Dragon (Wo hu cang long) (2000)\n",
      "Movie 175: Snatch (2000)\n",
      "Movie 176: Cast Away (2000)\n",
      "Movie 177: O Brother, Where Art Thou? (2000)\n",
      "Movie 178: Memento (2000)\n",
      "Movie 179: Shrek (2001)\n",
      "Movie 180: Donnie Darko (2001)\n",
      "Movie 181: Monsters, Inc. (2001)\n",
      "Movie 182: Harry Potter and the Sorcerer's Stone (a.k.a. Harry Potter and the Philosopher's Stone) (2001)\n",
      "Movie 183: Ocean's Eleven (2001)\n",
      "Movie 184: Amelie (Fabuleux destin d'Amélie Poulain, Le) (2001)\n",
      "Movie 185: Lord of the Rings: The Fellowship of the Ring, The (2001)\n",
      "Movie 186: Beautiful Mind, A (2001)\n",
      "Movie 187: Ice Age (2002)\n",
      "Movie 188: Spider-Man (2002)\n",
      "Movie 189: Star Wars: Episode II - Attack of the Clones (2002)\n",
      "Movie 190: Bourne Identity, The (2002)\n",
      "Movie 191: Minority Report (2002)\n",
      "Movie 192: Spirited Away (Sen to Chihiro no kamikakushi) (2001)\n",
      "Movie 193: Harry Potter and the Chamber of Secrets (2002)\n",
      "Movie 194: Lord of the Rings: The Two Towers, The (2002)\n",
      "Movie 195: Catch Me If You Can (2002)\n",
      "Movie 196: Pianist, The (2002)\n",
      "Movie 197: City of God (Cidade de Deus) (2002)\n",
      "Movie 198: X2: X-Men United (2003)\n",
      "Movie 199: Matrix Reloaded, The (2003)\n",
      "Movie 200: Finding Nemo (2003)\n",
      "Movie 201: Pirates of the Caribbean: The Curse of the Black Pearl (2003)\n",
      "Movie 202: Lost in Translation (2003)\n",
      "Movie 203: Kill Bill: Vol. 1 (2003)\n",
      "Movie 204: Matrix Revolutions, The (2003)\n",
      "Movie 205: Lord of the Rings: The Return of the King, The (2003)\n",
      "Movie 206: Eternal Sunshine of the Spotless Mind (2004)\n",
      "Movie 207: Kill Bill: Vol. 2 (2004)\n",
      "Movie 208: Shrek 2 (2004)\n",
      "Movie 209: Harry Potter and the Prisoner of Azkaban (2004)\n",
      "Movie 210: Spider-Man 2 (2004)\n",
      "Movie 211: I, Robot (2004)\n",
      "Movie 212: Bourne Supremacy, The (2004)\n",
      "Movie 213: Shaun of the Dead (2004)\n",
      "Movie 214: Incredibles, The (2004)\n",
      "Movie 215: Sin City (2005)\n",
      "Movie 216: Star Wars: Episode III - Revenge of the Sith (2005)\n",
      "Movie 217: Batman Begins (2005)\n",
      "Movie 218: Harry Potter and the Goblet of Fire (2005)\n",
      "Movie 219: V for Vendetta (2006)\n",
      "Movie 220: Little Miss Sunshine (2006)\n",
      "Movie 221: Pan's Labyrinth (Laberinto del fauno, El) (2006)\n",
      "Movie 222: Departed, The (2006)\n",
      "Movie 223: Prestige, The (2006)\n",
      "Movie 224: Casino Royale (2006)\n",
      "Movie 225: Ratatouille (2007)\n",
      "Movie 226: 300 (2007)\n",
      "Movie 227: Bourne Ultimatum, The (2007)\n",
      "Movie 228: No Country for Old Men (2007)\n",
      "Movie 229: Juno (2007)\n",
      "Movie 230: Dark Knight, The (2008)\n",
      "Movie 231: Iron Man (2008)\n",
      "Movie 232: WALL·E (2008)\n",
      "Movie 233: Slumdog Millionaire (2008)\n",
      "Movie 234: Inglourious Basterds (2009)\n",
      "Movie 235: Up (2009)\n",
      "Movie 236: Hangover, The (2009)\n",
      "Movie 237: District 9 (2009)\n",
      "Movie 238: Avatar (2009)\n",
      "Movie 239: Shutter Island (2010)\n",
      "Movie 240: Inception (2010)\n",
      "Movie 241: Avengers, The (2012)\n",
      "Movie 242: Dark Knight Rises, The (2012)\n",
      "Movie 243: Django Unchained (2012)\n",
      "Movie 244: Wolf of Wall Street, The (2013)\n",
      "Movie 245: Interstellar (2014)\n",
      "Movie 246: Guardians of the Galaxy (2014)\n",
      "Movie 247: The Imitation Game (2014)\n",
      "Movie 248: Deadpool (2016)\n",
      "Movie 249: The Martian (2015)\n",
      "----------------------------------------\n"
     ]
    },
    {
     "data": {
      "text/plain": [
       "<networkx.classes.graph.Graph at 0x7f20fd56b290>"
      ]
     },
     "execution_count": 9,
     "metadata": {},
     "output_type": "execute_result"
    },
    {
     "data": {
      "image/png": "[encoded data removed]",
      "text/plain": [
       "<Figure size 640x480 with 1 Axes>"
      ]
     },
     "metadata": {},
     "output_type": "display_data"
    }
   ],
   "source": [
    "# Print mapping of movie indices to titles\n",
    "# print(\"Movie Index to Title Mapping:\")\n",
    "# print(\"-\" * 40)\n",
    "# for var in model1.vars:\n",
    "#     print(f\"Movie {var.label}: {short[var.label]}\")\n",
    "# print(\"-\" * 40)\n",
    "\n",
    "# Draw graph with numeric labels\n",
    "short_labels = {var.label: var.label for var in model1.vars}\n",
    "gm.drawMarkovGraph(model1, labels=short_labels)\n"
   ]
  },
  {
   "cell_type": "code",
   "execution_count": 10,
   "metadata": {},
   "outputs": [],
   "source": [
    "# order, _ = gm.eliminationOrder(model1, 'minfill')\n",
    "# jt = gm.wmb.JTree(model1, elimOrder=order)\n",
    "# lnZ = jt.msgForward()\n",
    "\n",
    "# print(\"Log partition function:\", lnZ)\n",
    "# print(\"Ising Train LL:\", np.mean([model1.logValue(x) for x in Xtr]) - lnZ)\n",
    "# print(\"Ising Test LL:\", np.mean([model1.logValue(x) for x in Xte]) - lnZ)\n"
   ]
  },
  {
   "cell_type": "code",
   "execution_count": 11,
   "metadata": {},
   "outputs": [],
   "source": [
    "def conditional(factor, i, x):\n",
    "    return factor.t[tuple(x[v] if v != i else slice(v.states) for v in factor.vars)]\n",
    "\n",
    "def pseudolikelihood(model, X):\n",
    "    LL = np.zeros(X.shape)\n",
    "    for i in range(X.shape[1]):  # for each variable (movie)\n",
    "        flist = model.factorsWith(i, copy=False)\n",
    "        for j in range(X.shape[0]):  # for each data point (user)\n",
    "            pXi = 1.\n",
    "            for f in flist:\n",
    "                pXi *= conditional(f, i, X[j])\n",
    "            LL[j, i] = np.log(pXi[X[j, i]] / pXi.sum())\n",
    "    return LL.sum(1)\n"
   ]
  },
  {
   "cell_type": "code",
   "execution_count": 12,
   "metadata": {},
   "outputs": [
    {
     "name": "stdout",
     "output_type": "stream",
     "text": [
      "Pseudo-likelihood (Train): -136.74644582934917\n",
      "Pseudo-likelihood (Test): -142.40920506107713\n"
     ]
    }
   ],
   "source": [
    "print(\"Pseudo-likelihood (Train):\", pseudolikelihood(model1, Xtr).mean())\n",
    "print(\"Pseudo-likelihood (Test):\", pseudolikelihood(model1, Xte).mean())\n"
   ]
  },
  {
   "cell_type": "code",
   "execution_count": 13,
   "metadata": {},
   "outputs": [],
   "source": [
    "def impute_missing(model, Xobs):\n",
    "    m,n = Xobs.shape\n",
    "    Xhat = np.copy(Xobs);\n",
    "    for j in range(m):\n",
    "        x_obs = {i:Xobs[j,i] for i in range(n) if Xobs[j,i] >= 0}\n",
    "        x_unobs = [i for i in range(n) if Xobs[j,i] < 0]\n",
    "        cond = gm.GraphModel([f.condition(x_obs) for f in model.factorsWithAny(x_unobs)])\n",
    "        for x in cond.X:\n",
    "            if x.states == 0: x.states = 1;  # fix a bug in GraphModel behavior for missing vars...\n",
    "        jt = gm.wmb.JTree(cond, weights=1e-6) # 0: for maximization\n",
    "        x_hat = jt.argmax();\n",
    "        for i in x_unobs: Xhat[j,i] = x_hat[i]\n",
    "    return Xhat"
   ]
  },
  {
   "cell_type": "code",
   "execution_count": 14,
   "metadata": {},
   "outputs": [
    {
     "name": "stdout",
     "output_type": "stream",
     "text": [
      "Shape of Xte_missing: (200, 250)\n",
      "Example of Xte_missing (first few rows):\n",
      "[[ 0  0  0 ...  0  0  0]\n",
      " [ 1  1  0 ... -1  1  1]\n",
      " [ 1  0  1 ...  1  0  1]\n",
      " [-1  0  1 ... -1  0  0]\n",
      " [-1  0  0 ... -1  0  0]]\n"
     ]
    }
   ],
   "source": [
    "# Create a copy of Xte to simulate missing values\n",
    "Xte_missing = np.copy(Xte)\n",
    "\n",
    "#  Amount of test data that will be hidden\n",
    "missing_proportion = 0.2\n",
    "\n",
    "# Random seed for reproducibility\n",
    "np.random.seed(42)\n",
    "\n",
    "# Boolean mask where True means that position is missing and apply it to Xte_missing\n",
    "mask = np.random.rand(*Xte.shape) < missing_proportion\n",
    "\n",
    "# Set the selected entries to a missing indicator\n",
    "Xte_missing[mask] = -1"
   ]
  },
  {
   "cell_type": "code",
   "execution_count": 15,
   "metadata": {},
   "outputs": [
    {
     "name": "stdout",
     "output_type": "stream",
     "text": [
      "Error rate: 0.2501249625112466\n"
     ]
    }
   ],
   "source": [
    "# Slow!  (Constructing lots of conditional models...)\n",
    "Xte_hat = impute_missing(model1, Xte_missing)\n",
    "\n",
    "# Compare the imputed values (Xte_hat) with the original true values (Xte)\n",
    "error_rate = np.mean(Xte_hat[mask] != Xte[mask])\n",
    "\n",
    "print('Error rate:', error_rate)"
   ]
  },
  {
   "cell_type": "code",
   "execution_count": null,
   "metadata": {},
   "outputs": [],
   "source": []
  }
 ],
 "metadata": {
  "kernelspec": {
   "display_name": "Python 3",
   "language": "python",
   "name": "python3"
  },
  "language_info": {
   "codemirror_mode": {
    "name": "ipython",
    "version": 3
   },
   "file_extension": ".py",
   "mimetype": "text/x-python",
   "name": "python",
   "nbconvert_exporter": "python",
   "pygments_lexer": "ipython3",
   "version": "3.9.6"
  }
 },
 "nbformat": 4,
 "nbformat_minor": 4
}
